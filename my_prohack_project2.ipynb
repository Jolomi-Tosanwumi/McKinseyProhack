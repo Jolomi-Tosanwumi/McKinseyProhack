{
 "cells": [
  {
   "cell_type": "markdown",
   "metadata": {},
   "source": [
    "## A McKinsey Data Science Hackathon"
   ]
  },
  {
   "cell_type": "markdown",
   "metadata": {},
   "source": [
    "## Statement of Problem\n",
    "\n",
    "“Beeep…Beeeep….Beeeep… Hooomans*, are you there?...”\n",
    "\n",
    "This very strange transmission is coming from your narrowband radio signal receiver, pointed towards one of the farthest away galaxies. It’s early morning, you are sitting in your radio observatory high in the mountains.\n",
    "\n",
    "For the last 10 years you’ve been a Chief Data Scientist in one of the best astrophysics research teams in the world. You are enjoying a quiet time with a cup of coffee and reviewing the data reports from last night, when this strange sound arrived. You almost spill your coffee in surprise. “Am I dreaming?” is your first thought as you move closer towards the speaker and listen…\n",
    "\n",
    "“Beep…Beeeep….Beeeep… To all Hooomans who can hear us – we need your help”\n",
    "\n",
    "You lean closer and grab a notebook and a pencil – you don’t really trust computers when it comes to such important tasks as taking notes from a radio transmission. You start recording everything that the strange voice from light years away is saying.\n",
    "\n",
    "“… We need serious Data Science help and we know you Hooomans are the best at it…. We are an intergalactic species which have almost achieved singularity and the highest possible levels of development. We travel fast through space and explore other galaxies”\n",
    "\n",
    "“The only essence that we consume is energy, measured in DSML units…Our populace is widespread and we live across many different star clusters and galaxies. What we need now is to optimize our well-being across all those galaxies… We have a lot of data but our сomputers and methods are too weak – we urgently need your data science knowledge to help us”\n",
    "\n",
    "“Only two steps prevent us from achieving singularity\n",
    "\n",
    "· To understand what makes us better off.\n",
    "\n",
    "Our elders used the composite index to measure our well-being performance, but this knowledge has disappeared in the sands of time.\n",
    "\n",
    "Use our data and train your model to predict this index with the highest possible level of certainty.\n",
    "\n",
    "· To achieve the highest possible level of well-being through optimized allocation of additional energy\n",
    "\n",
    "We have discovered the star of an unusually high energy of 50000 zillion DSML.\n",
    "\n",
    "We have agreed between ourselves that \n",
    "\n",
    "· no one galaxy will consume more than 100 zillion DSML \n",
    "\n",
    "and \n",
    "\n",
    "· at least 10% of the total energy will be consumed by galaxies in need with existence expectancy index below 0,7.\n",
    "\n",
    "Think of our galaxies as your “countries” (or how you call them??) and our population as citizens. We have similar healthcare and wellbeing characteristic as you, Hooomans”\n",
    "\n",
    "“We are sending all the data to you right now. Let the data be with you, Hoomans… … …”\n",
    "\n",
    "Transmission suddenly ends. You put your notebook and pencil away and start thinking. You really want to help this species optimize their well-being. You open up Python and upload the dataset from the narrowband radio signal receiver. It will be another great day at the observatory today.\n",
    "\n",
    "————\n",
    "\n",
    "probably intergalactic species meant to say “humans” here but we will never know for sure\n",
    "\n",
    "Description Data Recieved\n",
    "The solutions are evaluated on two criteria: predicted future Index values and allocated energy from a newly discovered star\n",
    "\n",
    "1. Index predictions are evaluated using RMSE metric\n",
    "\n",
    "2. Energy allocation is also evaluated using RMSE metric and has a set of known factors that need to be taken into account.\n",
    "\n",
    "Every galaxy has a certain limited potential for improvement in the index described by the following function:\n",
    "\n",
    "Potential for increase in the Index = -np.log(Index+0.01)+3\n",
    "\n",
    "Likely index increase dependent on potential for improvement and on extra energy availability is described by the following function:\n",
    "\n",
    "Likely increase in the Index = extra energy * Potential for increase in the Index **2 / 1000\n",
    "\n",
    "There are also several constraints:\n",
    "\n",
    "in total there are 50000 zillion DSML available for allocation and no galaxy at a point in time should be allocated more than 100 zillion DSML or less than 0 zillion DSML. Galaxies with low existence expectancy index below 0.7 should be allocated at least 10% of the total energy available in the foreseeable future\n",
    "\n",
    "3. Leaderboard is based on a combined scaled metric:\n",
    "\n",
    "80% prediction task RMSE + 20% optimization task RMSE * lambda where lambda is a normalizing factor\n",
    "\n",
    "4. Leaderboard is 80% public and 20% private\n",
    "\n",
    "5. The submission should be in the following format:\n",
    "\n",
    "Variable\n",
    "Index\n",
    "pred\n",
    "opt_pred\n",
    "\n",
    "Description\n",
    "Index: Unique index from the test dataset in the ascending order\n",
    "pred: Prediction for the index on interest\n",
    "opt_pred: Optimal energy allocation\n"
   ]
  },
  {
   "cell_type": "markdown",
   "metadata": {},
   "source": [
    "## 1. Let's import pandas and numpy."
   ]
  },
  {
   "cell_type": "code",
   "execution_count": 1,
   "metadata": {},
   "outputs": [],
   "source": [
    "import numpy as np\n",
    "import pandas as pd"
   ]
  },
  {
   "cell_type": "markdown",
   "metadata": {},
   "source": [
    "## 2. Loading the datasets."
   ]
  },
  {
   "cell_type": "code",
   "execution_count": 2,
   "metadata": {},
   "outputs": [],
   "source": [
    "data_train = pd.read_csv('./Documents/prohack_dataset/train.csv') #train data\n",
    "data_test = pd.read_csv('./Documents/prohack_dataset/test.csv') #test data\n",
    "data_labels = data_train.pop('y') #selecting 'y' column from the train data to use as label\n",
    "#galaxy_names = data_train.pop('galaxy')\n",
    "\n"
   ]
  },
  {
   "cell_type": "code",
   "execution_count": 3,
   "metadata": {},
   "outputs": [
    {
     "data": {
      "text/html": [
       "<div>\n",
       "<style scoped>\n",
       "    .dataframe tbody tr th:only-of-type {\n",
       "        vertical-align: middle;\n",
       "    }\n",
       "\n",
       "    .dataframe tbody tr th {\n",
       "        vertical-align: top;\n",
       "    }\n",
       "\n",
       "    .dataframe thead th {\n",
       "        text-align: right;\n",
       "    }\n",
       "</style>\n",
       "<table border=\"1\" class=\"dataframe\">\n",
       "  <thead>\n",
       "    <tr style=\"text-align: right;\">\n",
       "      <th></th>\n",
       "      <th>galactic year</th>\n",
       "      <th>galaxy</th>\n",
       "      <th>existence expectancy index</th>\n",
       "      <th>existence expectancy at birth</th>\n",
       "      <th>Gross income per capita</th>\n",
       "      <th>Income Index</th>\n",
       "      <th>Expected years of education (galactic years)</th>\n",
       "      <th>Mean years of education (galactic years)</th>\n",
       "      <th>Intergalactic Development Index (IDI)</th>\n",
       "      <th>Education Index</th>\n",
       "      <th>...</th>\n",
       "      <th>Current health expenditure (% of GGP)</th>\n",
       "      <th>Intergalactic Development Index (IDI), female</th>\n",
       "      <th>Intergalactic Development Index (IDI), male</th>\n",
       "      <th>Gender Development Index (GDI)</th>\n",
       "      <th>Intergalactic Development Index (IDI), female, Rank</th>\n",
       "      <th>Intergalactic Development Index (IDI), male, Rank</th>\n",
       "      <th>Adjusted net savings</th>\n",
       "      <th>Creature Immunodeficiency Disease prevalence, adult (% ages 15-49), total</th>\n",
       "      <th>Private galaxy capital flows (% of GGP)</th>\n",
       "      <th>Gender Inequality Index (GII)</th>\n",
       "    </tr>\n",
       "  </thead>\n",
       "  <tbody>\n",
       "    <tr>\n",
       "      <th>0</th>\n",
       "      <td>990025</td>\n",
       "      <td>Large Magellanic Cloud (LMC)</td>\n",
       "      <td>0.628657</td>\n",
       "      <td>63.125200</td>\n",
       "      <td>27109.234310</td>\n",
       "      <td>0.646039</td>\n",
       "      <td>8.240543</td>\n",
       "      <td>NaN</td>\n",
       "      <td>NaN</td>\n",
       "      <td>NaN</td>\n",
       "      <td>...</td>\n",
       "      <td>NaN</td>\n",
       "      <td>NaN</td>\n",
       "      <td>NaN</td>\n",
       "      <td>NaN</td>\n",
       "      <td>NaN</td>\n",
       "      <td>NaN</td>\n",
       "      <td>NaN</td>\n",
       "      <td>NaN</td>\n",
       "      <td>NaN</td>\n",
       "      <td>NaN</td>\n",
       "    </tr>\n",
       "    <tr>\n",
       "      <th>1</th>\n",
       "      <td>990025</td>\n",
       "      <td>Camelopardalis B</td>\n",
       "      <td>0.818082</td>\n",
       "      <td>81.004994</td>\n",
       "      <td>30166.793958</td>\n",
       "      <td>0.852246</td>\n",
       "      <td>10.671823</td>\n",
       "      <td>4.742470</td>\n",
       "      <td>0.833624</td>\n",
       "      <td>0.467873</td>\n",
       "      <td>...</td>\n",
       "      <td>NaN</td>\n",
       "      <td>NaN</td>\n",
       "      <td>NaN</td>\n",
       "      <td>NaN</td>\n",
       "      <td>NaN</td>\n",
       "      <td>NaN</td>\n",
       "      <td>19.177926</td>\n",
       "      <td>NaN</td>\n",
       "      <td>22.785018</td>\n",
       "      <td>NaN</td>\n",
       "    </tr>\n",
       "    <tr>\n",
       "      <th>2</th>\n",
       "      <td>990025</td>\n",
       "      <td>Virgo I</td>\n",
       "      <td>0.659443</td>\n",
       "      <td>59.570534</td>\n",
       "      <td>8441.707353</td>\n",
       "      <td>0.499762</td>\n",
       "      <td>8.840316</td>\n",
       "      <td>5.583973</td>\n",
       "      <td>0.469110</td>\n",
       "      <td>0.363837</td>\n",
       "      <td>...</td>\n",
       "      <td>NaN</td>\n",
       "      <td>NaN</td>\n",
       "      <td>NaN</td>\n",
       "      <td>NaN</td>\n",
       "      <td>NaN</td>\n",
       "      <td>NaN</td>\n",
       "      <td>21.151265</td>\n",
       "      <td>6.534020</td>\n",
       "      <td>NaN</td>\n",
       "      <td>NaN</td>\n",
       "    </tr>\n",
       "    <tr>\n",
       "      <th>3</th>\n",
       "      <td>990025</td>\n",
       "      <td>UGC 8651 (DDO 181)</td>\n",
       "      <td>0.555862</td>\n",
       "      <td>52.333293</td>\n",
       "      <td>NaN</td>\n",
       "      <td>NaN</td>\n",
       "      <td>NaN</td>\n",
       "      <td>NaN</td>\n",
       "      <td>NaN</td>\n",
       "      <td>NaN</td>\n",
       "      <td>...</td>\n",
       "      <td>NaN</td>\n",
       "      <td>NaN</td>\n",
       "      <td>NaN</td>\n",
       "      <td>NaN</td>\n",
       "      <td>NaN</td>\n",
       "      <td>NaN</td>\n",
       "      <td>NaN</td>\n",
       "      <td>5.912194</td>\n",
       "      <td>NaN</td>\n",
       "      <td>NaN</td>\n",
       "    </tr>\n",
       "    <tr>\n",
       "      <th>4</th>\n",
       "      <td>990025</td>\n",
       "      <td>Tucana Dwarf</td>\n",
       "      <td>0.991196</td>\n",
       "      <td>81.802464</td>\n",
       "      <td>81033.956906</td>\n",
       "      <td>1.131163</td>\n",
       "      <td>13.800672</td>\n",
       "      <td>13.188907</td>\n",
       "      <td>0.910341</td>\n",
       "      <td>0.918353</td>\n",
       "      <td>...</td>\n",
       "      <td>NaN</td>\n",
       "      <td>NaN</td>\n",
       "      <td>NaN</td>\n",
       "      <td>NaN</td>\n",
       "      <td>NaN</td>\n",
       "      <td>NaN</td>\n",
       "      <td>NaN</td>\n",
       "      <td>5.611753</td>\n",
       "      <td>NaN</td>\n",
       "      <td>NaN</td>\n",
       "    </tr>\n",
       "  </tbody>\n",
       "</table>\n",
       "<p>5 rows × 79 columns</p>\n",
       "</div>"
      ],
      "text/plain": [
       "   galactic year                        galaxy  existence expectancy index  \\\n",
       "0         990025  Large Magellanic Cloud (LMC)                    0.628657   \n",
       "1         990025              Camelopardalis B                    0.818082   \n",
       "2         990025                       Virgo I                    0.659443   \n",
       "3         990025            UGC 8651 (DDO 181)                    0.555862   \n",
       "4         990025                  Tucana Dwarf                    0.991196   \n",
       "\n",
       "   existence expectancy at birth  Gross income per capita  Income Index  \\\n",
       "0                      63.125200             27109.234310      0.646039   \n",
       "1                      81.004994             30166.793958      0.852246   \n",
       "2                      59.570534              8441.707353      0.499762   \n",
       "3                      52.333293                      NaN           NaN   \n",
       "4                      81.802464             81033.956906      1.131163   \n",
       "\n",
       "   Expected years of education (galactic years)  \\\n",
       "0                                      8.240543   \n",
       "1                                     10.671823   \n",
       "2                                      8.840316   \n",
       "3                                           NaN   \n",
       "4                                     13.800672   \n",
       "\n",
       "   Mean years of education (galactic years)  \\\n",
       "0                                       NaN   \n",
       "1                                  4.742470   \n",
       "2                                  5.583973   \n",
       "3                                       NaN   \n",
       "4                                 13.188907   \n",
       "\n",
       "   Intergalactic Development Index (IDI)  Education Index  ...  \\\n",
       "0                                    NaN              NaN  ...   \n",
       "1                               0.833624         0.467873  ...   \n",
       "2                               0.469110         0.363837  ...   \n",
       "3                                    NaN              NaN  ...   \n",
       "4                               0.910341         0.918353  ...   \n",
       "\n",
       "   Current health expenditure (% of GGP)  \\\n",
       "0                                    NaN   \n",
       "1                                    NaN   \n",
       "2                                    NaN   \n",
       "3                                    NaN   \n",
       "4                                    NaN   \n",
       "\n",
       "   Intergalactic Development Index (IDI), female  \\\n",
       "0                                            NaN   \n",
       "1                                            NaN   \n",
       "2                                            NaN   \n",
       "3                                            NaN   \n",
       "4                                            NaN   \n",
       "\n",
       "   Intergalactic Development Index (IDI), male  \\\n",
       "0                                          NaN   \n",
       "1                                          NaN   \n",
       "2                                          NaN   \n",
       "3                                          NaN   \n",
       "4                                          NaN   \n",
       "\n",
       "   Gender Development Index (GDI)  \\\n",
       "0                             NaN   \n",
       "1                             NaN   \n",
       "2                             NaN   \n",
       "3                             NaN   \n",
       "4                             NaN   \n",
       "\n",
       "   Intergalactic Development Index (IDI), female, Rank  \\\n",
       "0                                                NaN     \n",
       "1                                                NaN     \n",
       "2                                                NaN     \n",
       "3                                                NaN     \n",
       "4                                                NaN     \n",
       "\n",
       "   Intergalactic Development Index (IDI), male, Rank  Adjusted net savings   \\\n",
       "0                                                NaN                    NaN   \n",
       "1                                                NaN              19.177926   \n",
       "2                                                NaN              21.151265   \n",
       "3                                                NaN                    NaN   \n",
       "4                                                NaN                    NaN   \n",
       "\n",
       "   Creature Immunodeficiency Disease prevalence, adult (% ages 15-49), total  \\\n",
       "0                                                NaN                           \n",
       "1                                                NaN                           \n",
       "2                                           6.534020                           \n",
       "3                                           5.912194                           \n",
       "4                                           5.611753                           \n",
       "\n",
       "   Private galaxy capital flows (% of GGP)  Gender Inequality Index (GII)  \n",
       "0                                      NaN                            NaN  \n",
       "1                                22.785018                            NaN  \n",
       "2                                      NaN                            NaN  \n",
       "3                                      NaN                            NaN  \n",
       "4                                      NaN                            NaN  \n",
       "\n",
       "[5 rows x 79 columns]"
      ]
     },
     "execution_count": 3,
     "metadata": {},
     "output_type": "execute_result"
    }
   ],
   "source": [
    "data_train.head()"
   ]
  },
  {
   "cell_type": "code",
   "execution_count": 4,
   "metadata": {},
   "outputs": [
    {
     "data": {
      "text/html": [
       "<div>\n",
       "<style scoped>\n",
       "    .dataframe tbody tr th:only-of-type {\n",
       "        vertical-align: middle;\n",
       "    }\n",
       "\n",
       "    .dataframe tbody tr th {\n",
       "        vertical-align: top;\n",
       "    }\n",
       "\n",
       "    .dataframe thead th {\n",
       "        text-align: right;\n",
       "    }\n",
       "</style>\n",
       "<table border=\"1\" class=\"dataframe\">\n",
       "  <thead>\n",
       "    <tr style=\"text-align: right;\">\n",
       "      <th></th>\n",
       "      <th>galactic year</th>\n",
       "      <th>galaxy</th>\n",
       "      <th>existence expectancy index</th>\n",
       "      <th>existence expectancy at birth</th>\n",
       "      <th>Gross income per capita</th>\n",
       "      <th>Income Index</th>\n",
       "      <th>Expected years of education (galactic years)</th>\n",
       "      <th>Mean years of education (galactic years)</th>\n",
       "      <th>Intergalactic Development Index (IDI)</th>\n",
       "      <th>Education Index</th>\n",
       "      <th>...</th>\n",
       "      <th>Current health expenditure (% of GGP)</th>\n",
       "      <th>Intergalactic Development Index (IDI), female</th>\n",
       "      <th>Intergalactic Development Index (IDI), male</th>\n",
       "      <th>Gender Development Index (GDI)</th>\n",
       "      <th>Intergalactic Development Index (IDI), female, Rank</th>\n",
       "      <th>Intergalactic Development Index (IDI), male, Rank</th>\n",
       "      <th>Adjusted net savings</th>\n",
       "      <th>Creature Immunodeficiency Disease prevalence, adult (% ages 15-49), total</th>\n",
       "      <th>Private galaxy capital flows (% of GGP)</th>\n",
       "      <th>Gender Inequality Index (GII)</th>\n",
       "    </tr>\n",
       "  </thead>\n",
       "  <tbody>\n",
       "    <tr>\n",
       "      <th>0</th>\n",
       "      <td>1007012</td>\n",
       "      <td>KK98 77</td>\n",
       "      <td>0.456086</td>\n",
       "      <td>51.562543</td>\n",
       "      <td>12236.576447</td>\n",
       "      <td>0.593325</td>\n",
       "      <td>10.414164</td>\n",
       "      <td>10.699072</td>\n",
       "      <td>0.547114</td>\n",
       "      <td>0.556267</td>\n",
       "      <td>...</td>\n",
       "      <td>NaN</td>\n",
       "      <td>NaN</td>\n",
       "      <td>NaN</td>\n",
       "      <td>NaN</td>\n",
       "      <td>NaN</td>\n",
       "      <td>NaN</td>\n",
       "      <td>NaN</td>\n",
       "      <td>NaN</td>\n",
       "      <td>NaN</td>\n",
       "      <td>NaN</td>\n",
       "    </tr>\n",
       "    <tr>\n",
       "      <th>1</th>\n",
       "      <td>1007012</td>\n",
       "      <td>Reticulum III</td>\n",
       "      <td>0.529835</td>\n",
       "      <td>57.228262</td>\n",
       "      <td>3431.883825</td>\n",
       "      <td>0.675407</td>\n",
       "      <td>7.239485</td>\n",
       "      <td>5.311122</td>\n",
       "      <td>0.497688</td>\n",
       "      <td>0.409969</td>\n",
       "      <td>...</td>\n",
       "      <td>NaN</td>\n",
       "      <td>NaN</td>\n",
       "      <td>NaN</td>\n",
       "      <td>NaN</td>\n",
       "      <td>NaN</td>\n",
       "      <td>NaN</td>\n",
       "      <td>NaN</td>\n",
       "      <td>NaN</td>\n",
       "      <td>NaN</td>\n",
       "      <td>NaN</td>\n",
       "    </tr>\n",
       "    <tr>\n",
       "      <th>2</th>\n",
       "      <td>1008016</td>\n",
       "      <td>Reticulum III</td>\n",
       "      <td>0.560976</td>\n",
       "      <td>59.379539</td>\n",
       "      <td>27562.914252</td>\n",
       "      <td>0.594624</td>\n",
       "      <td>11.774890</td>\n",
       "      <td>5.937797</td>\n",
       "      <td>0.544744</td>\n",
       "      <td>0.486167</td>\n",
       "      <td>...</td>\n",
       "      <td>NaN</td>\n",
       "      <td>NaN</td>\n",
       "      <td>NaN</td>\n",
       "      <td>NaN</td>\n",
       "      <td>NaN</td>\n",
       "      <td>NaN</td>\n",
       "      <td>NaN</td>\n",
       "      <td>NaN</td>\n",
       "      <td>NaN</td>\n",
       "      <td>NaN</td>\n",
       "    </tr>\n",
       "    <tr>\n",
       "      <th>3</th>\n",
       "      <td>1007012</td>\n",
       "      <td>Segue 1</td>\n",
       "      <td>0.565910</td>\n",
       "      <td>59.952390</td>\n",
       "      <td>20352.232905</td>\n",
       "      <td>0.837700</td>\n",
       "      <td>11.613621</td>\n",
       "      <td>10.067882</td>\n",
       "      <td>0.691641</td>\n",
       "      <td>0.523441</td>\n",
       "      <td>...</td>\n",
       "      <td>NaN</td>\n",
       "      <td>NaN</td>\n",
       "      <td>NaN</td>\n",
       "      <td>NaN</td>\n",
       "      <td>NaN</td>\n",
       "      <td>NaN</td>\n",
       "      <td>NaN</td>\n",
       "      <td>NaN</td>\n",
       "      <td>NaN</td>\n",
       "      <td>NaN</td>\n",
       "    </tr>\n",
       "    <tr>\n",
       "      <th>4</th>\n",
       "      <td>1013042</td>\n",
       "      <td>Virgo I</td>\n",
       "      <td>0.588274</td>\n",
       "      <td>55.428320</td>\n",
       "      <td>23959.704016</td>\n",
       "      <td>0.520579</td>\n",
       "      <td>10.392416</td>\n",
       "      <td>6.374637</td>\n",
       "      <td>0.530676</td>\n",
       "      <td>0.580418</td>\n",
       "      <td>...</td>\n",
       "      <td>7.357729</td>\n",
       "      <td>0.583373</td>\n",
       "      <td>0.600445</td>\n",
       "      <td>0.856158</td>\n",
       "      <td>206.674424</td>\n",
       "      <td>224.104054</td>\n",
       "      <td>NaN</td>\n",
       "      <td>7.687626</td>\n",
       "      <td>NaN</td>\n",
       "      <td>NaN</td>\n",
       "    </tr>\n",
       "  </tbody>\n",
       "</table>\n",
       "<p>5 rows × 79 columns</p>\n",
       "</div>"
      ],
      "text/plain": [
       "   galactic year         galaxy  existence expectancy index  \\\n",
       "0        1007012        KK98 77                    0.456086   \n",
       "1        1007012  Reticulum III                    0.529835   \n",
       "2        1008016  Reticulum III                    0.560976   \n",
       "3        1007012        Segue 1                    0.565910   \n",
       "4        1013042        Virgo I                    0.588274   \n",
       "\n",
       "   existence expectancy at birth  Gross income per capita  Income Index  \\\n",
       "0                      51.562543             12236.576447      0.593325   \n",
       "1                      57.228262              3431.883825      0.675407   \n",
       "2                      59.379539             27562.914252      0.594624   \n",
       "3                      59.952390             20352.232905      0.837700   \n",
       "4                      55.428320             23959.704016      0.520579   \n",
       "\n",
       "   Expected years of education (galactic years)  \\\n",
       "0                                     10.414164   \n",
       "1                                      7.239485   \n",
       "2                                     11.774890   \n",
       "3                                     11.613621   \n",
       "4                                     10.392416   \n",
       "\n",
       "   Mean years of education (galactic years)  \\\n",
       "0                                 10.699072   \n",
       "1                                  5.311122   \n",
       "2                                  5.937797   \n",
       "3                                 10.067882   \n",
       "4                                  6.374637   \n",
       "\n",
       "   Intergalactic Development Index (IDI)  Education Index  ...  \\\n",
       "0                               0.547114         0.556267  ...   \n",
       "1                               0.497688         0.409969  ...   \n",
       "2                               0.544744         0.486167  ...   \n",
       "3                               0.691641         0.523441  ...   \n",
       "4                               0.530676         0.580418  ...   \n",
       "\n",
       "   Current health expenditure (% of GGP)  \\\n",
       "0                                    NaN   \n",
       "1                                    NaN   \n",
       "2                                    NaN   \n",
       "3                                    NaN   \n",
       "4                               7.357729   \n",
       "\n",
       "   Intergalactic Development Index (IDI), female  \\\n",
       "0                                            NaN   \n",
       "1                                            NaN   \n",
       "2                                            NaN   \n",
       "3                                            NaN   \n",
       "4                                       0.583373   \n",
       "\n",
       "   Intergalactic Development Index (IDI), male  \\\n",
       "0                                          NaN   \n",
       "1                                          NaN   \n",
       "2                                          NaN   \n",
       "3                                          NaN   \n",
       "4                                     0.600445   \n",
       "\n",
       "   Gender Development Index (GDI)  \\\n",
       "0                             NaN   \n",
       "1                             NaN   \n",
       "2                             NaN   \n",
       "3                             NaN   \n",
       "4                        0.856158   \n",
       "\n",
       "   Intergalactic Development Index (IDI), female, Rank  \\\n",
       "0                                                NaN     \n",
       "1                                                NaN     \n",
       "2                                                NaN     \n",
       "3                                                NaN     \n",
       "4                                         206.674424     \n",
       "\n",
       "   Intergalactic Development Index (IDI), male, Rank  Adjusted net savings   \\\n",
       "0                                                NaN                    NaN   \n",
       "1                                                NaN                    NaN   \n",
       "2                                                NaN                    NaN   \n",
       "3                                                NaN                    NaN   \n",
       "4                                         224.104054                    NaN   \n",
       "\n",
       "   Creature Immunodeficiency Disease prevalence, adult (% ages 15-49), total  \\\n",
       "0                                                NaN                           \n",
       "1                                                NaN                           \n",
       "2                                                NaN                           \n",
       "3                                                NaN                           \n",
       "4                                           7.687626                           \n",
       "\n",
       "   Private galaxy capital flows (% of GGP)  Gender Inequality Index (GII)  \n",
       "0                                      NaN                            NaN  \n",
       "1                                      NaN                            NaN  \n",
       "2                                      NaN                            NaN  \n",
       "3                                      NaN                            NaN  \n",
       "4                                      NaN                            NaN  \n",
       "\n",
       "[5 rows x 79 columns]"
      ]
     },
     "execution_count": 4,
     "metadata": {},
     "output_type": "execute_result"
    }
   ],
   "source": [
    "data_test.head()"
   ]
  },
  {
   "cell_type": "markdown",
   "metadata": {},
   "source": [
    "## 3. Let's check the shape of the training and testing data, and have a view of the columns datatypes and names."
   ]
  },
  {
   "cell_type": "code",
   "execution_count": 5,
   "metadata": {},
   "outputs": [
    {
     "name": "stdout",
     "output_type": "stream",
     "text": [
      "(3865, 79)\n",
      "(890, 79)\n"
     ]
    }
   ],
   "source": [
    "print(data_train.shape)\n",
    "print(data_test.shape)"
   ]
  },
  {
   "cell_type": "code",
   "execution_count": 6,
   "metadata": {},
   "outputs": [
    {
     "data": {
      "text/plain": [
       "{'galactic year': dtype('int64'),\n",
       " 'galaxy': dtype('O'),\n",
       " 'existence expectancy index': dtype('float64'),\n",
       " 'existence expectancy at birth': dtype('float64'),\n",
       " 'Gross income per capita': dtype('float64'),\n",
       " 'Income Index': dtype('float64'),\n",
       " 'Expected years of education (galactic years)': dtype('float64'),\n",
       " 'Mean years of education (galactic years)': dtype('float64'),\n",
       " 'Intergalactic Development Index (IDI)': dtype('float64'),\n",
       " 'Education Index': dtype('float64'),\n",
       " 'Intergalactic Development Index (IDI), Rank': dtype('float64'),\n",
       " 'Population using at least basic drinking-water services (%)': dtype('float64'),\n",
       " 'Population using at least basic sanitation services (%)': dtype('float64'),\n",
       " 'Gross capital formation (% of GGP)': dtype('float64'),\n",
       " 'Population, total (millions)': dtype('float64'),\n",
       " 'Population, urban (%)': dtype('float64'),\n",
       " 'Mortality rate, under-five (per 1,000 live births)': dtype('float64'),\n",
       " 'Mortality rate, infant (per 1,000 live births)': dtype('float64'),\n",
       " 'Old age dependency ratio (old age (65 and older) per 100 creatures (ages 15-64))': dtype('float64'),\n",
       " 'Population, ages 15–64 (millions)': dtype('float64'),\n",
       " 'Population, ages 65 and older (millions)': dtype('float64'),\n",
       " 'Life expectancy at birth, male (galactic years)': dtype('float64'),\n",
       " 'Life expectancy at birth, female (galactic years)': dtype('float64'),\n",
       " 'Population, under age 5 (millions)': dtype('float64'),\n",
       " 'Young age (0-14) dependency ratio (per 100 creatures ages 15-64)': dtype('float64'),\n",
       " 'Adolescent birth rate (births per 1,000 female creatures ages 15-19)': dtype('float64'),\n",
       " 'Total unemployment rate (female to male ratio)': dtype('float64'),\n",
       " 'Vulnerable employment (% of total employment)': dtype('float64'),\n",
       " 'Unemployment, total (% of labour force)': dtype('float64'),\n",
       " 'Employment in agriculture (% of total employment)': dtype('float64'),\n",
       " 'Labour force participation rate (% ages 15 and older)': dtype('float64'),\n",
       " 'Labour force participation rate (% ages 15 and older), female': dtype('float64'),\n",
       " 'Employment in services (% of total employment)': dtype('float64'),\n",
       " 'Labour force participation rate (% ages 15 and older), male': dtype('float64'),\n",
       " 'Employment to population ratio (% ages 15 and older)': dtype('float64'),\n",
       " 'Jungle area (% of total land area)': dtype('float64'),\n",
       " 'Share of employment in nonagriculture, female (% of total employment in nonagriculture)': dtype('float64'),\n",
       " 'Youth unemployment rate (female to male ratio)': dtype('float64'),\n",
       " 'Unemployment, youth (% ages 15–24)': dtype('float64'),\n",
       " 'Mortality rate, female grown up (per 1,000 people)': dtype('float64'),\n",
       " 'Mortality rate, male grown up (per 1,000 people)': dtype('float64'),\n",
       " 'Infants lacking immunization, red hot disease (% of one-galactic year-olds)': dtype('float64'),\n",
       " 'Infants lacking immunization, Combination Vaccine (% of one-galactic year-olds)': dtype('float64'),\n",
       " 'Gross galactic product (GGP) per capita': dtype('float64'),\n",
       " 'Gross galactic product (GGP), total': dtype('float64'),\n",
       " 'Outer Galaxies direct investment, net inflows (% of GGP)': dtype('float64'),\n",
       " 'Exports and imports (% of GGP)': dtype('float64'),\n",
       " 'Share of seats in senate (% held by female)': dtype('float64'),\n",
       " 'Natural resource depletion': dtype('float64'),\n",
       " 'Mean years of education, female (galactic years)': dtype('float64'),\n",
       " 'Mean years of education, male (galactic years)': dtype('float64'),\n",
       " 'Expected years of education, female (galactic years)': dtype('float64'),\n",
       " 'Expected years of education, male (galactic years)': dtype('float64'),\n",
       " 'Maternal mortality ratio (deaths per 100,000 live births)': dtype('float64'),\n",
       " 'Renewable energy consumption (% of total final energy consumption)': dtype('float64'),\n",
       " 'Estimated gross galactic income per capita, male': dtype('float64'),\n",
       " 'Estimated gross galactic income per capita, female': dtype('float64'),\n",
       " 'Rural population with access to electricity (%)': dtype('float64'),\n",
       " 'Domestic credit provided by financial sector (% of GGP)': dtype('float64'),\n",
       " 'Population with at least some secondary education, female (% ages 25 and older)': dtype('float64'),\n",
       " 'Population with at least some secondary education, male (% ages 25 and older)': dtype('float64'),\n",
       " 'Gross fixed capital formation (% of GGP)': dtype('float64'),\n",
       " 'Remittances, inflows (% of GGP)': dtype('float64'),\n",
       " 'Population with at least some secondary education (% ages 25 and older)': dtype('float64'),\n",
       " 'Intergalactic inbound tourists (thousands)': dtype('float64'),\n",
       " 'Gross enrolment ratio, primary (% of primary under-age population)': dtype('float64'),\n",
       " 'Respiratory disease incidence (per 100,000 people)': dtype('float64'),\n",
       " 'Interstellar phone subscriptions (per 100 people)': dtype('float64'),\n",
       " 'Interstellar Data Net users, total (% of population)': dtype('float64'),\n",
       " 'Current health expenditure (% of GGP)': dtype('float64'),\n",
       " 'Intergalactic Development Index (IDI), female': dtype('float64'),\n",
       " 'Intergalactic Development Index (IDI), male': dtype('float64'),\n",
       " 'Gender Development Index (GDI)': dtype('float64'),\n",
       " 'Intergalactic Development Index (IDI), female, Rank': dtype('float64'),\n",
       " 'Intergalactic Development Index (IDI), male, Rank': dtype('float64'),\n",
       " 'Adjusted net savings ': dtype('float64'),\n",
       " 'Creature Immunodeficiency Disease prevalence, adult (% ages 15-49), total': dtype('float64'),\n",
       " 'Private galaxy capital flows (% of GGP)': dtype('float64'),\n",
       " 'Gender Inequality Index (GII)': dtype('float64')}"
      ]
     },
     "execution_count": 6,
     "metadata": {},
     "output_type": "execute_result"
    }
   ],
   "source": [
    "dict(data_train.dtypes)"
   ]
  },
  {
   "cell_type": "markdown",
   "metadata": {},
   "source": [
    "## 4. Let's see columns that doesn't contain null values. They are likely key features."
   ]
  },
  {
   "cell_type": "code",
   "execution_count": 7,
   "metadata": {},
   "outputs": [
    {
     "name": "stdout",
     "output_type": "stream",
     "text": [
      "['galactic year', 'galaxy']\n"
     ]
    },
    {
     "data": {
      "text/plain": [
       "{'galactic year': 0,\n",
       " 'galaxy': 0,\n",
       " 'existence expectancy index': 1,\n",
       " 'existence expectancy at birth': 1,\n",
       " 'Gross income per capita': 28,\n",
       " 'Income Index': 28,\n",
       " 'Expected years of education (galactic years)': 133,\n",
       " 'Mean years of education (galactic years)': 363,\n",
       " 'Intergalactic Development Index (IDI)': 391,\n",
       " 'Education Index': 391,\n",
       " 'Intergalactic Development Index (IDI), Rank': 433,\n",
       " 'Population using at least basic drinking-water services (%)': 1844,\n",
       " 'Population using at least basic sanitation services (%)': 1850,\n",
       " 'Gross capital formation (% of GGP)': 2363,\n",
       " 'Population, total (millions)': 2594,\n",
       " 'Population, urban (%)': 2594,\n",
       " 'Mortality rate, under-five (per 1,000 live births)': 2594,\n",
       " 'Mortality rate, infant (per 1,000 live births)': 2606,\n",
       " 'Old age dependency ratio (old age (65 and older) per 100 creatures (ages 15-64))': 2601,\n",
       " 'Population, ages 15–64 (millions)': 2601,\n",
       " 'Population, ages 65 and older (millions)': 2601,\n",
       " 'Life expectancy at birth, male (galactic years)': 2601,\n",
       " 'Life expectancy at birth, female (galactic years)': 2601,\n",
       " 'Population, under age 5 (millions)': 2601,\n",
       " 'Young age (0-14) dependency ratio (per 100 creatures ages 15-64)': 2601,\n",
       " 'Adolescent birth rate (births per 1,000 female creatures ages 15-19)': 2613,\n",
       " 'Total unemployment rate (female to male ratio)': 2628,\n",
       " 'Vulnerable employment (% of total employment)': 2628,\n",
       " 'Unemployment, total (% of labour force)': 2628,\n",
       " 'Employment in agriculture (% of total employment)': 2628,\n",
       " 'Labour force participation rate (% ages 15 and older)': 2628,\n",
       " 'Labour force participation rate (% ages 15 and older), female': 2628,\n",
       " 'Employment in services (% of total employment)': 2628,\n",
       " 'Labour force participation rate (% ages 15 and older), male': 2628,\n",
       " 'Employment to population ratio (% ages 15 and older)': 2628,\n",
       " 'Jungle area (% of total land area)': 2631,\n",
       " 'Share of employment in nonagriculture, female (% of total employment in nonagriculture)': 2628,\n",
       " 'Youth unemployment rate (female to male ratio)': 2629,\n",
       " 'Unemployment, youth (% ages 15–24)': 2629,\n",
       " 'Mortality rate, female grown up (per 1,000 people)': 2612,\n",
       " 'Mortality rate, male grown up (per 1,000 people)': 2612,\n",
       " 'Infants lacking immunization, red hot disease (% of one-galactic year-olds)': 2646,\n",
       " 'Infants lacking immunization, Combination Vaccine (% of one-galactic year-olds)': 2646,\n",
       " 'Gross galactic product (GGP) per capita': 2663,\n",
       " 'Gross galactic product (GGP), total': 2663,\n",
       " 'Outer Galaxies direct investment, net inflows (% of GGP)': 2696,\n",
       " 'Exports and imports (% of GGP)': 2721,\n",
       " 'Share of seats in senate (% held by female)': 2742,\n",
       " 'Natural resource depletion': 2733,\n",
       " 'Mean years of education, female (galactic years)': 2725,\n",
       " 'Mean years of education, male (galactic years)': 2727,\n",
       " 'Expected years of education, female (galactic years)': 2756,\n",
       " 'Expected years of education, male (galactic years)': 2757,\n",
       " 'Maternal mortality ratio (deaths per 100,000 live births)': 2613,\n",
       " 'Renewable energy consumption (% of total final energy consumption)': 2630,\n",
       " 'Estimated gross galactic income per capita, male': 2810,\n",
       " 'Estimated gross galactic income per capita, female': 2810,\n",
       " 'Rural population with access to electricity (%)': 2836,\n",
       " 'Domestic credit provided by financial sector (% of GGP)': 2786,\n",
       " 'Population with at least some secondary education, female (% ages 25 and older)': 2776,\n",
       " 'Population with at least some secondary education, male (% ages 25 and older)': 2778,\n",
       " 'Gross fixed capital formation (% of GGP)': 2791,\n",
       " 'Remittances, inflows (% of GGP)': 2837,\n",
       " 'Population with at least some secondary education (% ages 25 and older)': 2814,\n",
       " 'Intergalactic inbound tourists (thousands)': 2870,\n",
       " 'Gross enrolment ratio, primary (% of primary under-age population)': 2827,\n",
       " 'Respiratory disease incidence (per 100,000 people)': 2969,\n",
       " 'Interstellar phone subscriptions (per 100 people)': 2974,\n",
       " 'Interstellar Data Net users, total (% of population)': 2993,\n",
       " 'Current health expenditure (% of GGP)': 2998,\n",
       " 'Intergalactic Development Index (IDI), female': 2949,\n",
       " 'Intergalactic Development Index (IDI), male': 2950,\n",
       " 'Gender Development Index (GDI)': 2951,\n",
       " 'Intergalactic Development Index (IDI), female, Rank': 2972,\n",
       " 'Intergalactic Development Index (IDI), male, Rank': 2973,\n",
       " 'Adjusted net savings ': 2953,\n",
       " 'Creature Immunodeficiency Disease prevalence, adult (% ages 15-49), total': 2924,\n",
       " 'Private galaxy capital flows (% of GGP)': 2991,\n",
       " 'Gender Inequality Index (GII)': 3021}"
      ]
     },
     "execution_count": 7,
     "metadata": {},
     "output_type": "execute_result"
    }
   ],
   "source": [
    "print(list(data_train.columns[data_train.isna().sum() == 0])) #prints columns with no null values\n",
    "dict(data_train.isna().sum()) # a look at total null values in each column"
   ]
  },
  {
   "cell_type": "markdown",
   "metadata": {},
   "source": [
    "## 5. Let's check the columns that when recorded have unique value for each observation. Probably, they are highly important features."
   ]
  },
  {
   "cell_type": "code",
   "execution_count": 8,
   "metadata": {},
   "outputs": [
    {
     "data": {
      "text/plain": [
       "['existence expectancy index', 'existence expectancy at birth']"
      ]
     },
     "execution_count": 8,
     "metadata": {},
     "output_type": "execute_result"
    }
   ],
   "source": [
    "[i for i in data_train.columns if len(data_train[i].unique()) == data_train.shape[0]]"
   ]
  },
  {
   "cell_type": "markdown",
   "metadata": {},
   "source": [
    "## 6. Let's check the number of unique galaxy and galactic year in the training and testing data."
   ]
  },
  {
   "cell_type": "code",
   "execution_count": 9,
   "metadata": {},
   "outputs": [
    {
     "name": "stdout",
     "output_type": "stream",
     "text": [
      "181\n",
      "26\n",
      "172\n",
      "10\n"
     ]
    }
   ],
   "source": [
    "print(len(data_train['galaxy'].unique()))\n",
    "print(len(data_train['galactic year'].unique()))\n",
    "print(len(data_test['galaxy'].unique()))\n",
    "print(len(data_test['galactic year'].unique()))"
   ]
  },
  {
   "cell_type": "markdown",
   "metadata": {},
   "source": [
    "## 7. Let's check if indeed for every galaxy in the training data, there is one unique galactic year per observation.\n",
    "\n",
    "#### First, let's define a function that will group a dataset by a column_key and return a dictionary of column_key/dataframe pair."
   ]
  },
  {
   "cell_type": "code",
   "execution_count": 10,
   "metadata": {},
   "outputs": [],
   "source": [
    "def get_grouped_df(data, key):\n",
    "    groups = data.groupby(key)\n",
    "    dict_grp = {k: v for k, v in groups}\n",
    "    return dict_grp"
   ]
  },
  {
   "cell_type": "code",
   "execution_count": 11,
   "metadata": {},
   "outputs": [
    {
     "data": {
      "text/html": [
       "<div>\n",
       "<style scoped>\n",
       "    .dataframe tbody tr th:only-of-type {\n",
       "        vertical-align: middle;\n",
       "    }\n",
       "\n",
       "    .dataframe tbody tr th {\n",
       "        vertical-align: top;\n",
       "    }\n",
       "\n",
       "    .dataframe thead th {\n",
       "        text-align: right;\n",
       "    }\n",
       "</style>\n",
       "<table border=\"1\" class=\"dataframe\">\n",
       "  <thead>\n",
       "    <tr style=\"text-align: right;\">\n",
       "      <th></th>\n",
       "      <th>galactic year</th>\n",
       "      <th>galaxy</th>\n",
       "      <th>existence expectancy index</th>\n",
       "      <th>existence expectancy at birth</th>\n",
       "      <th>Gross income per capita</th>\n",
       "      <th>Income Index</th>\n",
       "      <th>Expected years of education (galactic years)</th>\n",
       "      <th>Mean years of education (galactic years)</th>\n",
       "      <th>Intergalactic Development Index (IDI)</th>\n",
       "      <th>Education Index</th>\n",
       "      <th>...</th>\n",
       "      <th>Current health expenditure (% of GGP)</th>\n",
       "      <th>Intergalactic Development Index (IDI), female</th>\n",
       "      <th>Intergalactic Development Index (IDI), male</th>\n",
       "      <th>Gender Development Index (GDI)</th>\n",
       "      <th>Intergalactic Development Index (IDI), female, Rank</th>\n",
       "      <th>Intergalactic Development Index (IDI), male, Rank</th>\n",
       "      <th>Adjusted net savings</th>\n",
       "      <th>Creature Immunodeficiency Disease prevalence, adult (% ages 15-49), total</th>\n",
       "      <th>Private galaxy capital flows (% of GGP)</th>\n",
       "      <th>Gender Inequality Index (GII)</th>\n",
       "    </tr>\n",
       "  </thead>\n",
       "  <tbody>\n",
       "    <tr>\n",
       "      <th>2</th>\n",
       "      <td>990025</td>\n",
       "      <td>Virgo I</td>\n",
       "      <td>0.659443</td>\n",
       "      <td>59.570534</td>\n",
       "      <td>8441.707353</td>\n",
       "      <td>0.499762</td>\n",
       "      <td>8.840316</td>\n",
       "      <td>5.583973</td>\n",
       "      <td>0.469110</td>\n",
       "      <td>0.363837</td>\n",
       "      <td>...</td>\n",
       "      <td>NaN</td>\n",
       "      <td>NaN</td>\n",
       "      <td>NaN</td>\n",
       "      <td>NaN</td>\n",
       "      <td>NaN</td>\n",
       "      <td>NaN</td>\n",
       "      <td>21.151265</td>\n",
       "      <td>6.53402</td>\n",
       "      <td>NaN</td>\n",
       "      <td>NaN</td>\n",
       "    </tr>\n",
       "    <tr>\n",
       "      <th>309</th>\n",
       "      <td>991020</td>\n",
       "      <td>Virgo I</td>\n",
       "      <td>0.555338</td>\n",
       "      <td>58.867426</td>\n",
       "      <td>24763.531222</td>\n",
       "      <td>0.463406</td>\n",
       "      <td>7.536744</td>\n",
       "      <td>2.763276</td>\n",
       "      <td>0.502295</td>\n",
       "      <td>0.342069</td>\n",
       "      <td>...</td>\n",
       "      <td>NaN</td>\n",
       "      <td>NaN</td>\n",
       "      <td>NaN</td>\n",
       "      <td>NaN</td>\n",
       "      <td>NaN</td>\n",
       "      <td>NaN</td>\n",
       "      <td>NaN</td>\n",
       "      <td>NaN</td>\n",
       "      <td>NaN</td>\n",
       "      <td>NaN</td>\n",
       "    </tr>\n",
       "    <tr>\n",
       "      <th>364</th>\n",
       "      <td>992016</td>\n",
       "      <td>Virgo I</td>\n",
       "      <td>0.554174</td>\n",
       "      <td>60.551216</td>\n",
       "      <td>11439.589593</td>\n",
       "      <td>0.524210</td>\n",
       "      <td>7.485369</td>\n",
       "      <td>5.545963</td>\n",
       "      <td>0.430654</td>\n",
       "      <td>0.390630</td>\n",
       "      <td>...</td>\n",
       "      <td>NaN</td>\n",
       "      <td>NaN</td>\n",
       "      <td>NaN</td>\n",
       "      <td>NaN</td>\n",
       "      <td>NaN</td>\n",
       "      <td>NaN</td>\n",
       "      <td>NaN</td>\n",
       "      <td>NaN</td>\n",
       "      <td>NaN</td>\n",
       "      <td>NaN</td>\n",
       "    </tr>\n",
       "    <tr>\n",
       "      <th>635</th>\n",
       "      <td>993012</td>\n",
       "      <td>Virgo I</td>\n",
       "      <td>0.612921</td>\n",
       "      <td>62.918772</td>\n",
       "      <td>24467.082523</td>\n",
       "      <td>0.481154</td>\n",
       "      <td>7.357494</td>\n",
       "      <td>5.868132</td>\n",
       "      <td>0.489407</td>\n",
       "      <td>0.348280</td>\n",
       "      <td>...</td>\n",
       "      <td>NaN</td>\n",
       "      <td>NaN</td>\n",
       "      <td>NaN</td>\n",
       "      <td>NaN</td>\n",
       "      <td>NaN</td>\n",
       "      <td>NaN</td>\n",
       "      <td>NaN</td>\n",
       "      <td>NaN</td>\n",
       "      <td>NaN</td>\n",
       "      <td>NaN</td>\n",
       "    </tr>\n",
       "    <tr>\n",
       "      <th>897</th>\n",
       "      <td>994009</td>\n",
       "      <td>Virgo I</td>\n",
       "      <td>0.630974</td>\n",
       "      <td>50.942282</td>\n",
       "      <td>19221.268239</td>\n",
       "      <td>0.506944</td>\n",
       "      <td>7.312539</td>\n",
       "      <td>6.109797</td>\n",
       "      <td>0.412421</td>\n",
       "      <td>0.377290</td>\n",
       "      <td>...</td>\n",
       "      <td>NaN</td>\n",
       "      <td>NaN</td>\n",
       "      <td>NaN</td>\n",
       "      <td>NaN</td>\n",
       "      <td>NaN</td>\n",
       "      <td>NaN</td>\n",
       "      <td>NaN</td>\n",
       "      <td>NaN</td>\n",
       "      <td>NaN</td>\n",
       "      <td>NaN</td>\n",
       "    </tr>\n",
       "  </tbody>\n",
       "</table>\n",
       "<p>5 rows × 79 columns</p>\n",
       "</div>"
      ],
      "text/plain": [
       "     galactic year   galaxy  existence expectancy index  \\\n",
       "2           990025  Virgo I                    0.659443   \n",
       "309         991020  Virgo I                    0.555338   \n",
       "364         992016  Virgo I                    0.554174   \n",
       "635         993012  Virgo I                    0.612921   \n",
       "897         994009  Virgo I                    0.630974   \n",
       "\n",
       "     existence expectancy at birth  Gross income per capita  Income Index  \\\n",
       "2                        59.570534              8441.707353      0.499762   \n",
       "309                      58.867426             24763.531222      0.463406   \n",
       "364                      60.551216             11439.589593      0.524210   \n",
       "635                      62.918772             24467.082523      0.481154   \n",
       "897                      50.942282             19221.268239      0.506944   \n",
       "\n",
       "     Expected years of education (galactic years)  \\\n",
       "2                                        8.840316   \n",
       "309                                      7.536744   \n",
       "364                                      7.485369   \n",
       "635                                      7.357494   \n",
       "897                                      7.312539   \n",
       "\n",
       "     Mean years of education (galactic years)  \\\n",
       "2                                    5.583973   \n",
       "309                                  2.763276   \n",
       "364                                  5.545963   \n",
       "635                                  5.868132   \n",
       "897                                  6.109797   \n",
       "\n",
       "     Intergalactic Development Index (IDI)  Education Index  ...  \\\n",
       "2                                 0.469110         0.363837  ...   \n",
       "309                               0.502295         0.342069  ...   \n",
       "364                               0.430654         0.390630  ...   \n",
       "635                               0.489407         0.348280  ...   \n",
       "897                               0.412421         0.377290  ...   \n",
       "\n",
       "     Current health expenditure (% of GGP)  \\\n",
       "2                                      NaN   \n",
       "309                                    NaN   \n",
       "364                                    NaN   \n",
       "635                                    NaN   \n",
       "897                                    NaN   \n",
       "\n",
       "     Intergalactic Development Index (IDI), female  \\\n",
       "2                                              NaN   \n",
       "309                                            NaN   \n",
       "364                                            NaN   \n",
       "635                                            NaN   \n",
       "897                                            NaN   \n",
       "\n",
       "     Intergalactic Development Index (IDI), male  \\\n",
       "2                                            NaN   \n",
       "309                                          NaN   \n",
       "364                                          NaN   \n",
       "635                                          NaN   \n",
       "897                                          NaN   \n",
       "\n",
       "     Gender Development Index (GDI)  \\\n",
       "2                               NaN   \n",
       "309                             NaN   \n",
       "364                             NaN   \n",
       "635                             NaN   \n",
       "897                             NaN   \n",
       "\n",
       "     Intergalactic Development Index (IDI), female, Rank  \\\n",
       "2                                                  NaN     \n",
       "309                                                NaN     \n",
       "364                                                NaN     \n",
       "635                                                NaN     \n",
       "897                                                NaN     \n",
       "\n",
       "     Intergalactic Development Index (IDI), male, Rank  Adjusted net savings   \\\n",
       "2                                                  NaN              21.151265   \n",
       "309                                                NaN                    NaN   \n",
       "364                                                NaN                    NaN   \n",
       "635                                                NaN                    NaN   \n",
       "897                                                NaN                    NaN   \n",
       "\n",
       "     Creature Immunodeficiency Disease prevalence, adult (% ages 15-49), total  \\\n",
       "2                                              6.53402                           \n",
       "309                                                NaN                           \n",
       "364                                                NaN                           \n",
       "635                                                NaN                           \n",
       "897                                                NaN                           \n",
       "\n",
       "     Private galaxy capital flows (% of GGP)  Gender Inequality Index (GII)  \n",
       "2                                        NaN                            NaN  \n",
       "309                                      NaN                            NaN  \n",
       "364                                      NaN                            NaN  \n",
       "635                                      NaN                            NaN  \n",
       "897                                      NaN                            NaN  \n",
       "\n",
       "[5 rows x 79 columns]"
      ]
     },
     "execution_count": 11,
     "metadata": {},
     "output_type": "execute_result"
    }
   ],
   "source": [
    "group1 = get_grouped_df(data_train, 'galaxy')\n",
    "group1['Virgo I'].head()\n",
    "#let's have a view of how each galaxy's mini dataframe looks like"
   ]
  },
  {
   "cell_type": "code",
   "execution_count": 12,
   "metadata": {},
   "outputs": [],
   "source": [
    "years_per_galaxy  = [len(group1[i]['galactic year']) \n",
    "                     for i in group1.keys()] #stores the number of galactic years per galaxy as a list\n",
    "\n",
    "unique_years_per_galaxy  = [len(group1[i]['galactic year'].unique()) \n",
    "                            for i in group1.keys()] \n",
    "                            #stores the number of unique galactic years per galaxy as a list"
   ]
  },
  {
   "cell_type": "code",
   "execution_count": 13,
   "metadata": {},
   "outputs": [
    {
     "data": {
      "text/plain": [
       "True"
      ]
     },
     "execution_count": 13,
     "metadata": {},
     "output_type": "execute_result"
    }
   ],
   "source": [
    "unique_years_per_galaxy == years_per_galaxy #checks for equality"
   ]
  },
  {
   "cell_type": "markdown",
   "metadata": {},
   "source": [
    "## 8. Similar to step 7 above, let's check if indeed for every galactic year in the training data, there is one unique galaxy per observation."
   ]
  },
  {
   "cell_type": "code",
   "execution_count": 14,
   "metadata": {},
   "outputs": [],
   "source": [
    "group2 = get_grouped_df(data_train, 'galactic year')\n",
    "\n",
    "galaxies_per_year  = [len(group2[i]['galaxy']) for i in group2.keys()]\n",
    "unique_galaxies_per_year  = [len(group2[i]['galaxy'].unique()) for i in group2.keys()]\n"
   ]
  },
  {
   "cell_type": "code",
   "execution_count": 15,
   "metadata": {},
   "outputs": [
    {
     "data": {
      "text/plain": [
       "True"
      ]
     },
     "execution_count": 15,
     "metadata": {},
     "output_type": "execute_result"
    }
   ],
   "source": [
    "galaxies_per_year == unique_galaxies_per_year"
   ]
  },
  {
   "cell_type": "markdown",
   "metadata": {},
   "source": [
    "## 9. let's repeat steps 7 and 8  but this time with the testing data."
   ]
  },
  {
   "cell_type": "code",
   "execution_count": 16,
   "metadata": {},
   "outputs": [
    {
     "data": {
      "text/plain": [
       "True"
      ]
     },
     "execution_count": 16,
     "metadata": {},
     "output_type": "execute_result"
    }
   ],
   "source": [
    "# similar to step 7\n",
    "group3 =  get_grouped_df(data_test, 'galaxy')\n",
    "\n",
    "years_per_galaxy_test  = [len(group3[i]['galactic year']) for i in group3.keys()]\n",
    "unique_years_per_galaxy_test  = [len(group3[i]['galactic year'].unique()) for i in group3.keys()]\n",
    "\n",
    "unique_years_per_galaxy_test == years_per_galaxy_test"
   ]
  },
  {
   "cell_type": "code",
   "execution_count": 17,
   "metadata": {},
   "outputs": [
    {
     "data": {
      "text/plain": [
       "True"
      ]
     },
     "execution_count": 17,
     "metadata": {},
     "output_type": "execute_result"
    }
   ],
   "source": [
    "# similar to step 8\n",
    "group4 = get_grouped_df(data_test, 'galactic year')\n",
    "\n",
    "galaxies_per_year_test  = [len(group4[i]['galaxy']) for i in group4.keys()]\n",
    "unique_galaxies_per_year_test  = [len(group4[i]['galaxy'].unique()) for i in group4.keys()]\n",
    "\n",
    "galaxies_per_year_test == unique_galaxies_per_year_test"
   ]
  },
  {
   "cell_type": "markdown",
   "metadata": {},
   "source": [
    "## 10. Let's check the relationship between sampling of galactic years in the training and the testing data."
   ]
  },
  {
   "cell_type": "code",
   "execution_count": 18,
   "metadata": {},
   "outputs": [
    {
     "name": "stdout",
     "output_type": "stream",
     "text": [
      "[990025, 991020, 992016, 993012, 994009, 995006, 996004, 997002, 998001, 999000, 1000000, 1001000, 1002001, 1003002, 1004004, 1005006, 1006009, 1007012, 1008016, 1009020, 1010025, 1011030, 1012036, 1013042, 1014049, 1015056] 26\n",
      "\n",
      "[1007012, 1008016, 1009020, 1010025, 1011030, 1012036, 1013042, 1014049, 1015056, 1016064] 10\n"
     ]
    }
   ],
   "source": [
    "unique_gal_years_train = set(data_train['galactic year']) #unique galactic years in the training data\n",
    "unique_gal_years_test = set(data_test['galactic year']) #unique galactic years in the testing data\n",
    "\n",
    "print(sorted(list(unique_gal_years_train)), len(unique_gal_years_train))\n",
    "print()\n",
    "print(sorted(list(unique_gal_years_test)), len(unique_gal_years_test))"
   ]
  },
  {
   "cell_type": "code",
   "execution_count": 19,
   "metadata": {},
   "outputs": [
    {
     "name": "stdout",
     "output_type": "stream",
     "text": [
      "{1014049, 1007012, 1012036, 1010025, 1008016, 1015056, 1013042, 1011030, 1009020} 9\n"
     ]
    }
   ],
   "source": [
    "common_gal_years = unique_gal_years_train & unique_gal_years_test\n",
    "print(common_gal_years, len(common_gal_years))\n",
    "#checks for common galactic years between training and testing data."
   ]
  },
  {
   "cell_type": "markdown",
   "metadata": {},
   "source": [
    "#### It seems 9 of the 10 galactic years in the testing data are sampled in the training data.\n",
    "\n",
    "#### Let's check the elapsed galactic year between two successive galactic years in the training data."
   ]
  },
  {
   "cell_type": "code",
   "execution_count": 20,
   "metadata": {},
   "outputs": [
    {
     "name": "stdout",
     "output_type": "stream",
     "text": [
      "[995, 996, 996, 997, 997, 998, 998, 999, 999, 1000, 1000, 1001, 1001, 1002, 1002, 1003, 1003, 1004, 1004, 1005, 1005, 1006, 1006, 1007, 1007]\n"
     ]
    }
   ],
   "source": [
    " print([sorted(list(unique_gal_years_train))[i+1] - sorted(list(unique_gal_years_train))[i] \n",
    "  for i in range(len(unique_gal_years_train) - 1)])"
   ]
  },
  {
   "cell_type": "markdown",
   "metadata": {},
   "source": [
    "#### It seems the first observations in the training data were sampled after 995 galactic years. Subsequent elapsed galactic years of sampling was increase by one after two samplings."
   ]
  },
  {
   "cell_type": "markdown",
   "metadata": {},
   "source": [
    "## 11. Let's import useful libraries."
   ]
  },
  {
   "cell_type": "code",
   "execution_count": 21,
   "metadata": {},
   "outputs": [],
   "source": [
    "from sklearn.preprocessing import StandardScaler, LabelEncoder, OneHotEncoder, PolynomialFeatures\n",
    "from sklearn.impute import SimpleImputer\n",
    "from sklearn.pipeline import Pipeline, FeatureUnion\n",
    "from sklearn.linear_model import LinearRegression, Ridge\n",
    "from sklearn.model_selection import train_test_split, GridSearchCV, RandomizedSearchCV\n",
    "from sklearn import tree\n",
    "from sklearn.neighbors import KNeighborsRegressor\n",
    "from sklearn.ensemble import RandomForestRegressor, GradientBoostingRegressor\n",
    "from sklearn.base import BaseEstimator, RegressorMixin, TransformerMixin\n",
    "from sklearn.decomposition import PCA\n",
    "from sklearn.metrics import mean_squared_error as mse\n",
    "from scipy.optimize import minimize, Bounds, LinearConstraint\n",
    "import math\n",
    "import warnings\n",
    "warnings.filterwarnings('ignore')"
   ]
  },
  {
   "cell_type": "code",
   "execution_count": 22,
   "metadata": {},
   "outputs": [],
   "source": [
    "X_train, X_test, y_train, y_test = train_test_split(data_train, data_labels, test_size=0.2, random_state=0)"
   ]
  },
  {
   "cell_type": "code",
   "execution_count": 23,
   "metadata": {},
   "outputs": [],
   "source": [
    "#ran_f = RandomForestRegressor(random_state=0)"
   ]
  },
  {
   "cell_type": "code",
   "execution_count": 24,
   "metadata": {},
   "outputs": [],
   "source": [
    "#grid = GridSearchCV(ran_f, {'n_estimators': range(10, 110, 10)}, cv=5, n_jobs=2, verbose=1)"
   ]
  },
  {
   "cell_type": "code",
   "execution_count": 25,
   "metadata": {},
   "outputs": [],
   "source": [
    "#model_pipe = Pipeline([('imp', SimpleImputer(strategy='median')), ('scaler', StandardScaler()), \n",
    "                       #('pca', PCA(n_components=10)), \n",
    "                       #('grid', grid)])"
   ]
  },
  {
   "cell_type": "code",
   "execution_count": 26,
   "metadata": {},
   "outputs": [],
   "source": [
    "pipe_trans = Pipeline([('imp', SimpleImputer(strategy='median')), ('scaler', StandardScaler()),\n",
    "                       ('pca', PCA(n_components=12))])\n",
    "Xt = pipe_trans.fit_transform(data_train.copy().drop('galaxy', axis=1))"
   ]
  },
  {
   "cell_type": "code",
   "execution_count": 27,
   "metadata": {},
   "outputs": [
    {
     "data": {
      "text/plain": [
       "array([0.31074724, 0.37499671, 0.43157048, 0.48547347, 0.53080894,\n",
       "       0.56969754, 0.60237499, 0.62812233, 0.65214917, 0.67294766,\n",
       "       0.69210713, 0.7103287 ])"
      ]
     },
     "execution_count": 27,
     "metadata": {},
     "output_type": "execute_result"
    }
   ],
   "source": [
    "np.cumsum(pipe_trans.named_steps['pca'].explained_variance_ratio_)"
   ]
  },
  {
   "cell_type": "code",
   "execution_count": 28,
   "metadata": {},
   "outputs": [],
   "source": [
    "Xt = pd.DataFrame(Xt)\n",
    "Xt['y'] = data_labels\n",
    "Xt.to_csv('./Documents/prohack_dataset/pca_analysis.csv')"
   ]
  },
  {
   "cell_type": "code",
   "execution_count": 29,
   "metadata": {},
   "outputs": [],
   "source": [
    "class ColumnSelect(BaseEstimator, TransformerMixin):\n",
    "    def __init__(self, column):\n",
    "        self.column = column\n",
    "        \n",
    "    def fit(self, X, y=None):\n",
    "        return self\n",
    "    \n",
    "    def transform(self, X):\n",
    "        Xt = X.copy()\n",
    "        return Xt[self.column]"
   ]
  },
  {
   "cell_type": "code",
   "execution_count": 30,
   "metadata": {},
   "outputs": [],
   "source": [
    "class ColumnDrop(BaseEstimator, TransformerMixin):\n",
    "    def __init__(self, column):\n",
    "        self.column = column\n",
    "        \n",
    "    def fit(self, X, y=None):\n",
    "        return self\n",
    "    \n",
    "    def transform(self, X):\n",
    "        Xt = X.copy()\n",
    "        return Xt.drop(self.column, axis=1)"
   ]
  },
  {
   "cell_type": "code",
   "execution_count": 31,
   "metadata": {},
   "outputs": [],
   "source": [
    "one_hot = OneHotEncoder(sparse=False)"
   ]
  },
  {
   "cell_type": "code",
   "execution_count": 32,
   "metadata": {},
   "outputs": [],
   "source": [
    "class OneHot(BaseEstimator, TransformerMixin):\n",
    "        \n",
    "    def fit(self, X, y=None):\n",
    "        return self\n",
    "    \n",
    "    def transform(self, X):\n",
    "        Xt = X.copy()\n",
    "        return one_hot.fit_transform(np.array(Xt).reshape(-1, 1))"
   ]
  },
  {
   "cell_type": "code",
   "execution_count": 33,
   "metadata": {},
   "outputs": [
    {
     "name": "stdout",
     "output_type": "stream",
     "text": [
      "(3092, 79)\n",
      "(773, 79)\n"
     ]
    }
   ],
   "source": [
    "print(X_train.shape)\n",
    "print(X_test.shape)"
   ]
  },
  {
   "cell_type": "code",
   "execution_count": 34,
   "metadata": {},
   "outputs": [],
   "source": [
    "class SplitSelectData(BaseEstimator, TransformerMixin):\n",
    "    def __init__(self, start=0, end=3865):\n",
    "        self.start = start\n",
    "        self.end = end\n",
    "        \n",
    "    def fit(self, X, y=None):\n",
    "        return self\n",
    "    \n",
    "    def transform(self, X):\n",
    "        self.train_data = X[self.start: self.end]\n",
    "        self.test_data = X[self.end:]\n",
    "        return self.train_data"
   ]
  },
  {
   "cell_type": "code",
   "execution_count": 35,
   "metadata": {},
   "outputs": [],
   "source": [
    "data_split = SplitSelectData(end=3092)"
   ]
  },
  {
   "cell_type": "code",
   "execution_count": 36,
   "metadata": {},
   "outputs": [],
   "source": [
    "test_train_data = pd.concat([X_train.copy(), X_test.copy()])\n",
    "galaxy_name_features = Pipeline([('column_select', ColumnSelect('galaxy')), ('one_hot', OneHot()), ('train', data_split)])\n",
    "\n",
    "test_train_data = galaxy_name_features.fit_transform(test_train_data)"
   ]
  },
  {
   "cell_type": "code",
   "execution_count": 37,
   "metadata": {},
   "outputs": [],
   "source": [
    "enc_train = galaxy_name_features.named_steps['train'].train_data\n",
    "enc_test = galaxy_name_features.named_steps['train'].test_data"
   ]
  },
  {
   "cell_type": "code",
   "execution_count": 38,
   "metadata": {},
   "outputs": [
    {
     "data": {
      "text/plain": [
       "Ridge(alpha=1.0, copy_X=True, fit_intercept=True, max_iter=None,\n",
       "      normalize=False, random_state=None, solver='auto', tol=0.001)"
      ]
     },
     "execution_count": 38,
     "metadata": {},
     "output_type": "execute_result"
    }
   ],
   "source": [
    "galaxy_name_model = Ridge() \n",
    "galaxy_name_model.fit(enc_train, y_train)"
   ]
  },
  {
   "cell_type": "code",
   "execution_count": 39,
   "metadata": {},
   "outputs": [],
   "source": [
    "y_pred1 = galaxy_name_model.predict(enc_test)"
   ]
  },
  {
   "cell_type": "code",
   "execution_count": 40,
   "metadata": {},
   "outputs": [],
   "source": [
    "statistical_features_model = Pipeline([('drop_test', data_split), ('drop_galaxy', ColumnDrop('galaxy')), \n",
    "                                 ('imp', SimpleImputer(strategy='median')), ('scaler', StandardScaler()),\n",
    "                                 ('ran_f', tree.DecisionTreeRegressor())])"
   ]
  },
  {
   "cell_type": "code",
   "execution_count": 41,
   "metadata": {},
   "outputs": [
    {
     "data": {
      "text/plain": [
       "Pipeline(memory=None,\n",
       "         steps=[('drop_test', SplitSelectData(end=3092, start=0)),\n",
       "                ('drop_galaxy', ColumnDrop(column='galaxy')),\n",
       "                ('imp',\n",
       "                 SimpleImputer(add_indicator=False, copy=True, fill_value=None,\n",
       "                               missing_values=nan, strategy='median',\n",
       "                               verbose=0)),\n",
       "                ('scaler',\n",
       "                 StandardScaler(copy=True, with_mean=True, with_std=True)),\n",
       "                ('ran_f',\n",
       "                 DecisionTreeRegressor(ccp_alpha=0.0, criterion='mse',\n",
       "                                       max_depth=None, max_features=None,\n",
       "                                       max_leaf_nodes=None,\n",
       "                                       min_impurity_decrease=0.0,\n",
       "                                       min_impurity_split=None,\n",
       "                                       min_samples_leaf=1, min_samples_split=2,\n",
       "                                       min_weight_fraction_leaf=0.0,\n",
       "                                       presort='deprecated', random_state=None,\n",
       "                                       splitter='best'))],\n",
       "         verbose=False)"
      ]
     },
     "execution_count": 41,
     "metadata": {},
     "output_type": "execute_result"
    }
   ],
   "source": [
    "statistical_features_model.fit(X_train, y_train)"
   ]
  },
  {
   "cell_type": "code",
   "execution_count": 42,
   "metadata": {},
   "outputs": [],
   "source": [
    "y_pred2 = statistical_features_model.predict(X_test)"
   ]
  },
  {
   "cell_type": "code",
   "execution_count": 43,
   "metadata": {},
   "outputs": [
    {
     "data": {
      "text/plain": [
       "0.02664000311927877"
      ]
     },
     "execution_count": 43,
     "metadata": {},
     "output_type": "execute_result"
    }
   ],
   "source": [
    "mse(y_test, y_pred1, squared=False)"
   ]
  },
  {
   "cell_type": "code",
   "execution_count": 44,
   "metadata": {},
   "outputs": [
    {
     "data": {
      "text/plain": [
       "0.04467710580182285"
      ]
     },
     "execution_count": 44,
     "metadata": {},
     "output_type": "execute_result"
    }
   ],
   "source": [
    "mse(y_test, y_pred2, squared=False)"
   ]
  },
  {
   "cell_type": "code",
   "execution_count": 45,
   "metadata": {},
   "outputs": [],
   "source": [
    "class EstTransformer1(BaseEstimator, TransformerMixin):\n",
    "    def __init__(self, enc_train, enc_test, model):\n",
    "        self.train_data = enc_train\n",
    "        self.test_data = enc_test\n",
    "        self.model = model\n",
    "        \n",
    "    def fit(self, X, y):\n",
    "        self.model.fit(self.train_data, y)\n",
    "        return self\n",
    "    \n",
    "    def transform(self, X):\n",
    "        if len(X) == len(self.train_data):\n",
    "            return self.model.predict(self.train_data).reshape(-1, 1)\n",
    "        return self.model.predict(self.test_data).reshape(-1, 1)\n",
    "        "
   ]
  },
  {
   "cell_type": "code",
   "execution_count": 46,
   "metadata": {},
   "outputs": [],
   "source": [
    "class EstTransformer2(BaseEstimator, TransformerMixin):\n",
    "    def __init__(self, model):\n",
    "        self.model =model\n",
    "        \n",
    "    def fit(self, X, y):\n",
    "        Xt = X.copy()\n",
    "        yt = y.copy()\n",
    "        self.model.fit(Xt, yt)\n",
    "        return self\n",
    "    \n",
    "    def transform(self, X):\n",
    "        Xt = X.copy()\n",
    "        return self.model.predict(Xt).reshape(-1, 1)"
   ]
  },
  {
   "cell_type": "code",
   "execution_count": 47,
   "metadata": {},
   "outputs": [],
   "source": [
    "est1 = EstTransformer1(enc_train, enc_test, Ridge())\n",
    "est2 = EstTransformer2(statistical_features_model)"
   ]
  },
  {
   "cell_type": "code",
   "execution_count": 48,
   "metadata": {},
   "outputs": [],
   "source": [
    "union = FeatureUnion([('est1', est1), ('est2', est2)])"
   ]
  },
  {
   "cell_type": "code",
   "execution_count": 49,
   "metadata": {},
   "outputs": [
    {
     "data": {
      "text/plain": [
       "Pipeline(memory=None,\n",
       "         steps=[('union',\n",
       "                 FeatureUnion(n_jobs=None,\n",
       "                              transformer_list=[('est1',\n",
       "                                                 EstTransformer1(enc_test=None,\n",
       "                                                                 enc_train=None,\n",
       "                                                                 model=Ridge(alpha=1.0,\n",
       "                                                                             copy_X=True,\n",
       "                                                                             fit_intercept=True,\n",
       "                                                                             max_iter=None,\n",
       "                                                                             normalize=False,\n",
       "                                                                             random_state=None,\n",
       "                                                                             solver='auto',\n",
       "                                                                             tol=0.001))),\n",
       "                                                ('est2',\n",
       "                                                 EstTransformer2(model=Pipeline(memory=None,\n",
       "                                                                                steps=[('drop_test',\n",
       "                                                                                        SplitSelectData(en...\n",
       "                                                                                                              max_leaf_nodes=None,\n",
       "                                                                                                              min_impurity_decrease=0.0,\n",
       "                                                                                                              min_impurity_split=None,\n",
       "                                                                                                              min_samples_leaf=1,\n",
       "                                                                                                              min_samples_split=2,\n",
       "                                                                                                              min_weight_fraction_leaf=0.0,\n",
       "                                                                                                              presort='deprecated',\n",
       "                                                                                                              random_state=None,\n",
       "                                                                                                              splitter='best'))],\n",
       "                                                                                verbose=False)))],\n",
       "                              transformer_weights=None, verbose=False)),\n",
       "                ('model',\n",
       "                 LinearRegression(copy_X=True, fit_intercept=False, n_jobs=None,\n",
       "                                  normalize=False))],\n",
       "         verbose=False)"
      ]
     },
     "execution_count": 49,
     "metadata": {},
     "output_type": "execute_result"
    }
   ],
   "source": [
    "blend_model = Pipeline([('union', union), ('model', LinearRegression(fit_intercept=False))])\n",
    "\n",
    "blend_model.fit(X_train, y_train)\n"
   ]
  },
  {
   "cell_type": "code",
   "execution_count": 50,
   "metadata": {},
   "outputs": [],
   "source": [
    "y_pred = blend_model.predict(X_test)"
   ]
  },
  {
   "cell_type": "code",
   "execution_count": 51,
   "metadata": {},
   "outputs": [
    {
     "data": {
      "text/plain": [
       "0.04490275178721261"
      ]
     },
     "execution_count": 51,
     "metadata": {},
     "output_type": "execute_result"
    }
   ],
   "source": [
    "mse(y_test, y_pred, squared=False)"
   ]
  },
  {
   "cell_type": "code",
   "execution_count": 52,
   "metadata": {},
   "outputs": [],
   "source": [
    "final_data_split = SplitSelectData()\n",
    "final_galaxy_name_features = Pipeline([('column_select', ColumnSelect('galaxy')), ('one_hot', OneHot()), \n",
    "                                       ('train', final_data_split)])\n",
    "final_test_train_data = pd.concat([data_train.copy(), data_test.copy()])\n",
    "final_test_train_data = final_galaxy_name_features.fit_transform(final_test_train_data)"
   ]
  },
  {
   "cell_type": "code",
   "execution_count": 53,
   "metadata": {},
   "outputs": [],
   "source": [
    "final_enc_train = final_galaxy_name_features.named_steps['train'].train_data\n",
    "final_enc_test = final_galaxy_name_features.named_steps['train'].test_data"
   ]
  },
  {
   "cell_type": "code",
   "execution_count": 54,
   "metadata": {},
   "outputs": [],
   "source": [
    "final_statistical_features_model = Pipeline([('drop_test', final_data_split), ('drop_galaxy', ColumnDrop('galaxy')), \n",
    "                                 ('imp', SimpleImputer(strategy='median')), ('scaler', StandardScaler()),\n",
    "                                 ('ran_f', GradientBoostingRegressor(random_state=0))])"
   ]
  },
  {
   "cell_type": "code",
   "execution_count": 55,
   "metadata": {},
   "outputs": [],
   "source": [
    "final_est1 = EstTransformer1(final_enc_train, final_enc_test, Ridge())\n",
    "final_est2 = EstTransformer2(final_statistical_features_model)"
   ]
  },
  {
   "cell_type": "code",
   "execution_count": 56,
   "metadata": {},
   "outputs": [
    {
     "data": {
      "text/plain": [
       "3865"
      ]
     },
     "execution_count": 56,
     "metadata": {},
     "output_type": "execute_result"
    }
   ],
   "source": [
    "len(final_est2.fit_transform(data_train, data_labels))"
   ]
  },
  {
   "cell_type": "code",
   "execution_count": 57,
   "metadata": {},
   "outputs": [],
   "source": [
    "final_union = FeatureUnion([('est1', final_est1), ('est2', final_est2)])"
   ]
  },
  {
   "cell_type": "code",
   "execution_count": 58,
   "metadata": {},
   "outputs": [
    {
     "data": {
      "text/plain": [
       "Pipeline(memory=None,\n",
       "         steps=[('union',\n",
       "                 FeatureUnion(n_jobs=None,\n",
       "                              transformer_list=[('est1',\n",
       "                                                 EstTransformer1(enc_test=None,\n",
       "                                                                 enc_train=None,\n",
       "                                                                 model=Ridge(alpha=1.0,\n",
       "                                                                             copy_X=True,\n",
       "                                                                             fit_intercept=True,\n",
       "                                                                             max_iter=None,\n",
       "                                                                             normalize=False,\n",
       "                                                                             random_state=None,\n",
       "                                                                             solver='auto',\n",
       "                                                                             tol=0.001))),\n",
       "                                                ('est2',\n",
       "                                                 EstTransformer2(model=Pipeline(memory=None,\n",
       "                                                                                steps=[('drop_test',\n",
       "                                                                                        SplitSelectData(en...\n",
       "                                                                                                                  min_samples_split=2,\n",
       "                                                                                                                  min_weight_fraction_leaf=0.0,\n",
       "                                                                                                                  n_estimators=100,\n",
       "                                                                                                                  n_iter_no_change=None,\n",
       "                                                                                                                  presort='deprecated',\n",
       "                                                                                                                  random_state=0,\n",
       "                                                                                                                  subsample=1.0,\n",
       "                                                                                                                  tol=0.0001,\n",
       "                                                                                                                  validation_fraction=0.1,\n",
       "                                                                                                                  verbose=0,\n",
       "                                                                                                                  warm_start=False))],\n",
       "                                                                                verbose=False)))],\n",
       "                              transformer_weights=None, verbose=False)),\n",
       "                ('model',\n",
       "                 LinearRegression(copy_X=True, fit_intercept=False, n_jobs=None,\n",
       "                                  normalize=False))],\n",
       "         verbose=False)"
      ]
     },
     "execution_count": 58,
     "metadata": {},
     "output_type": "execute_result"
    }
   ],
   "source": [
    "final_blend_model = Pipeline([('union', final_union), ('model', LinearRegression(fit_intercept=False))])\n",
    "\n",
    "final_blend_model.fit(data_train, data_labels)\n"
   ]
  },
  {
   "cell_type": "code",
   "execution_count": 59,
   "metadata": {},
   "outputs": [],
   "source": [
    "final_y_pred = final_blend_model.predict(data_test)"
   ]
  },
  {
   "cell_type": "markdown",
   "metadata": {},
   "source": [
    "## 13. Optimization Problem.\n",
    "\n",
    "#### to minimize in scipy use the scipy.optimize.minimize library.\n",
    "\n",
    "#### check out scipy.optimze.minimize function [here](https://docs.scipy.org/doc/scipy/reference/tutorial/optimize.html)"
   ]
  },
  {
   "cell_type": "code",
   "execution_count": 60,
   "metadata": {},
   "outputs": [],
   "source": [
    "pot_for_inc = -np.log(final_y_pred + 0.01) + 3 # calculates potential for improvement in index"
   ]
  },
  {
   "cell_type": "code",
   "execution_count": 61,
   "metadata": {},
   "outputs": [],
   "source": [
    "def likely_increase(X, p=pot_for_inc):\n",
    "    return -sum(X * p**2 /1000) # calculates total likely increase in index. \n",
    "    #the minus sign is because we want to maximize the function since minimizing -a is same as maximizing a."
   ]
  },
  {
   "cell_type": "code",
   "execution_count": 62,
   "metadata": {},
   "outputs": [],
   "source": [
    "s_imp = SimpleImputer(strategy='median')"
   ]
  },
  {
   "cell_type": "code",
   "execution_count": 63,
   "metadata": {},
   "outputs": [],
   "source": [
    "# drops the galaxy column since we can't imputation can't work with string\n",
    "data_test_copy = data_test.copy().drop('galaxy', axis=1)\n",
    "cols = data_test_copy.columns # store the columns names excluding that of galaxy.\n",
    "data_test_copy = s_imp.fit_transform(data_test_copy) # imputates\n",
    "data_test_copy = pd.DataFrame(data_test_copy, columns=cols) # converts to dataframe\n",
    "\n",
    "# filters rows with existence expectancy index < 0.7\n",
    "low_eei = data_test_copy[data_test_copy['existence expectancy index'] < 0.7]  \n"
   ]
  },
  {
   "cell_type": "code",
   "execution_count": 64,
   "metadata": {},
   "outputs": [
    {
     "data": {
      "text/plain": [
       "66"
      ]
     },
     "execution_count": 64,
     "metadata": {},
     "output_type": "execute_result"
    }
   ],
   "source": [
    "data_test_copy2 = data_test_copy.sort_values(by='existence expectancy index') # sorts df by existence expectancy index\n",
    "\n",
    "# check if original testing data set has top rows coresponding to rows with existence expectancy index < 0.7\n",
    "sum(data_test_copy.loc[:len(low_eei) - 1, 'existence expectancy index'] == low_eei['existence expectancy index'])"
   ]
  },
  {
   "cell_type": "code",
   "execution_count": 65,
   "metadata": {},
   "outputs": [],
   "source": [
    "boundary = Bounds([0]*890, [100]*890) # creates boundary constraint of 0 <= x <= 100\n",
    "constraint1 = LinearConstraint([1]*890, [50000], [50000]) # creates constraint of sum(x) = 50,000\n",
    "\n",
    "# create constraint of sum(extra energy of galaxies with existence expectancy index < 0.7) >= 10% 0f 50,000\n",
    "constraint2 = LinearConstraint([1]*66 + [0]*824, [5000], [np.inf])"
   ]
  },
  {
   "cell_type": "code",
   "execution_count": 66,
   "metadata": {},
   "outputs": [],
   "source": [
    "X0 = np.array([100]*66 + [52]*800 + [75]*24) # initial optimized extra energy guess"
   ]
  },
  {
   "cell_type": "code",
   "execution_count": 67,
   "metadata": {},
   "outputs": [
    {
     "name": "stdout",
     "output_type": "stream",
     "text": [
      "Warning: Maximum number of function evaluations has been exceeded.\n"
     ]
    }
   ],
   "source": [
    "res = minimize(likely_increase, X0, method='nelder-mead', constraints=[constraint1, constraint2],\n",
    "               bounds=boundary, options={'verbose': 1, 'disp': True}) # optimizes"
   ]
  },
  {
   "cell_type": "code",
   "execution_count": 68,
   "metadata": {},
   "outputs": [
    {
     "data": {
      "text/plain": [
       "1607.2346228528634"
      ]
     },
     "execution_count": 68,
     "metadata": {},
     "output_type": "execute_result"
    }
   ],
   "source": [
    "opt_pred = res.x # stores optimal extra energy\n",
    "-res.fun # checks maximum sum of likely increase in index"
   ]
  },
  {
   "cell_type": "code",
   "execution_count": null,
   "metadata": {},
   "outputs": [],
   "source": [
    "solution1 = pd.DataFrame({'Index': data_test.index, 'pred': y_pred, 'opt_pred': opt_pred}) # stores solution as df\n",
    "solution1"
   ]
  },
  {
   "cell_type": "code",
   "execution_count": null,
   "metadata": {},
   "outputs": [],
   "source": [
    "solution1.to_csv('./Documents/prohack_dataset/solution1.csv') # stores solution to disk as csv file to be submitted!"
   ]
  }
 ],
 "metadata": {
  "kernelspec": {
   "display_name": "Python 3",
   "language": "python",
   "name": "python3"
  },
  "language_info": {
   "codemirror_mode": {
    "name": "ipython",
    "version": 3
   },
   "file_extension": ".py",
   "mimetype": "text/x-python",
   "name": "python",
   "nbconvert_exporter": "python",
   "pygments_lexer": "ipython3",
   "version": "3.7.6"
  }
 },
 "nbformat": 4,
 "nbformat_minor": 4
}
